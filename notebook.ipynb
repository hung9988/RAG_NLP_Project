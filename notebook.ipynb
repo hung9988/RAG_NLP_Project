{
 "cells": [
  {
   "cell_type": "code",
   "execution_count": 2,
   "metadata": {},
   "outputs": [],
   "source": [
    "from langchain import SQLDatabase\n",
    "from langchain_openai import ChatOpenAI, OpenAIEmbeddings\n",
    "from langchain.memory import ConversationBufferMemory\n",
    "import os \n",
    "from dotenv import load_dotenv\n",
    "from langchain_core.output_parsers import StrOutputParser\n",
    "from prompts.templates import *"
   ]
  },
  {
   "cell_type": "code",
   "execution_count": null,
   "metadata": {},
   "outputs": [],
   "source": [
    "### DEFINE ALL MODEL AND MEMORY INSTANCES HERE\n",
    "load_dotenv()\n",
    "OPENAI_API_KEY= os.getenv(\"OPENAI_API_KEY\")\n",
    "DB_URI= os.getenv(\"DB_URI\")\n",
    "db = SQLDatabase.from_uri(DB_URI)\n",
    "llm = ChatOpenAI(model=\"gpt-4o-mini\", api_key=OPENAI_API_KEY, temperature=0)\n",
    "embbeder=OpenAIEmbeddings(model='text-embedding-3-small', dimensions=768)\n",
    "str_output_parser = StrOutputParser()\n",
    "memory = ConversationBufferMemory(memory_key=\"chat_history\",return_messages=True)"
   ]
  },
  {
   "cell_type": "code",
   "execution_count": 11,
   "metadata": {},
   "outputs": [],
   "source": [
    "### FUNCTION TO GET CURRENT CONTEXT\n",
    "def get_current_context(memory: ConversationBufferMemory):\n",
    "    history_str=memory.buffer_as_str\n",
    "    summarize_chain= history_summarization_template | llm | str_output_parser\n",
    "    summary=summarize_chain.invoke({\"input\":history_str})\n",
    "    memory.clear()\n",
    "    memory.save_context(inputs={\"input\":summary},outputs={\"output\":\"\"})\n",
    "    return memory"
   ]
  },
  {
   "cell_type": "code",
   "execution_count": 5,
   "metadata": {},
   "outputs": [],
   "source": [
    "### FUNCTION TO GET THE MOST SIMILAR NEWS ARTICLES TO THE ENTITIES PROVIDED\n",
    "def find_top_k_similar(entities:str):\n",
    "    embedding=embbeder.embed_query(entities)\n",
    "    query= f\"SELECT title, url, description, content, cat, subcat, published_date, author FROM news ORDER BY embedding <#> '{str(embedding)}' LIMIT 5\"\n",
    "    return db.run(query)\n",
    "    "
   ]
  },
  {
   "cell_type": "code",
   "execution_count": 6,
   "metadata": {},
   "outputs": [],
   "source": [
    "chain= entites_extraction_template | llm | str_output_parser | find_top_k_similar | str_output_parser| sql_response_parsing_template | llm | str_output_parser"
   ]
  },
  {
   "cell_type": "code",
   "execution_count": 12,
   "metadata": {},
   "outputs": [],
   "source": [
    "\n",
    "# Example interaction function\n",
    "def run_agent(user_input,memory):\n",
    "    # Get chat history and summarize it\n",
    "    memory = get_current_context(memory)\n",
    "\n",
    "    response=chain.invoke({\"input\": user_input, \"context\": memory.buffer_as_str})\n",
    "    \n",
    "    memory.save_context({\"input\": user_input}, {\"response\": response})\n",
    "    \n",
    "    return response\n",
    "\n"
   ]
  },
  {
   "cell_type": "code",
   "execution_count": 20,
   "metadata": {},
   "outputs": [
    {
     "name": "stdout",
     "output_type": "stream",
     "text": [
      "1. **Đại học Quốc gia Hà Nội hợp tác với 2 đại học hàng đầu Trung Quốc**: Hà Nội sẽ hợp tác với ĐH Bắc Kinh và ĐH Thanh Hoa về đào tạo khoa học trẻ, trao đổi giảng viên, sinh viên trong các lĩnh vực công nghệ, kỹ thuật, trí tuệ nhân tạo, bán dẫn, và khoa học xã hội nhân văn. [Xem thêm](https://dantri.com.vn/giao-duc/dai-hoc-quoc-gia-ha-noi-bat-tay-voi-2-dai-hoc-hang-dau-trung-quoc-20240830160703959.htm)\n",
      "\n",
      "2. **Điểm chuẩn Đại học Khoa học Xã hội và Nhân văn Hà Nội**: Ngành Quan hệ công chúng có điểm chuẩn cao nhất là 29,1, với trung bình 9,7 điểm mỗi môn. [Xem thêm](https://vnexpress.net/diem-chuan-dai-hoc-khoa-hoc-xa-hoi-va-nhan-van-ha-noi-cao-nhat-29-1-4782335.html)\n",
      "\n",
      "3. **Đại học Khoa học và Công nghệ Hà Nội**: Trường chỉ tuyển sinh khoảng 1.000 sinh viên mỗi năm, định hướng đào tạo nguồn nhân lực khoa học - công nghệ cao chuẩn quốc tế. [Xem thêm](https://vnexpress.net/dai-hoc-dao-tao-nhan-luc-khoa-hoc-cong-nghe-theo-chuan-quoc-te-4775409.html)\n"
     ]
    }
   ],
   "source": [
    "user_query = \"Continue giving me articles with the same topic as the previous one\"\n",
    "response = run_agent(user_query,memory)\n",
    "print(response)"
   ]
  },
  {
   "cell_type": "code",
   "execution_count": 21,
   "metadata": {},
   "outputs": [
    {
     "name": "stdout",
     "output_type": "stream",
     "text": [
      "Human: The user requested articles related to Hanoi University of Science and Technology, and the chatbot provided information on journalism education and high admission scores. The conversation then transitioned to discussing chicken eggs, including their nutritional benefits and preferences in Vietnam. The user continued to seek more articles on similar topics, prompting the chatbot to share various educational articles.\n",
      "AI: \n",
      "Human: Continue giving me articles with the same topic as the previous one\n",
      "AI: 1. **Đại học Quốc gia Hà Nội hợp tác với 2 đại học hàng đầu Trung Quốc**: Hà Nội sẽ hợp tác với ĐH Bắc Kinh và ĐH Thanh Hoa về đào tạo khoa học trẻ, trao đổi giảng viên, sinh viên trong các lĩnh vực công nghệ, kỹ thuật, trí tuệ nhân tạo, bán dẫn, và khoa học xã hội nhân văn. [Xem thêm](https://dantri.com.vn/giao-duc/dai-hoc-quoc-gia-ha-noi-bat-tay-voi-2-dai-hoc-hang-dau-trung-quoc-20240830160703959.htm)\n",
      "\n",
      "2. **Điểm chuẩn Đại học Khoa học Xã hội và Nhân văn Hà Nội**: Ngành Quan hệ công chúng có điểm chuẩn cao nhất là 29,1, với trung bình 9,7 điểm mỗi môn. [Xem thêm](https://vnexpress.net/diem-chuan-dai-hoc-khoa-hoc-xa-hoi-va-nhan-van-ha-noi-cao-nhat-29-1-4782335.html)\n",
      "\n",
      "3. **Đại học Khoa học và Công nghệ Hà Nội**: Trường chỉ tuyển sinh khoảng 1.000 sinh viên mỗi năm, định hướng đào tạo nguồn nhân lực khoa học - công nghệ cao chuẩn quốc tế. [Xem thêm](https://vnexpress.net/dai-hoc-dao-tao-nhan-luc-khoa-hoc-cong-nghe-theo-chuan-quoc-te-4775409.html)\n"
     ]
    }
   ],
   "source": [
    "print(memory.buffer_as_str)"
   ]
  }
 ],
 "metadata": {
  "kernelspec": {
   "display_name": "Python 3",
   "language": "python",
   "name": "python3"
  },
  "language_info": {
   "codemirror_mode": {
    "name": "ipython",
    "version": 3
   },
   "file_extension": ".py",
   "mimetype": "text/x-python",
   "name": "python",
   "nbconvert_exporter": "python",
   "pygments_lexer": "ipython3",
   "version": "3.12.6"
  }
 },
 "nbformat": 4,
 "nbformat_minor": 2
}
