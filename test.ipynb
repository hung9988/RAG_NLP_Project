{
 "cells": [
  {
   "cell_type": "code",
   "execution_count": 2,
   "metadata": {},
   "outputs": [],
   "source": [
    "from langchain import SQLDatabase\n",
    "from langchain.prompts import PromptTemplate\n",
    "from langchain_openai import ChatOpenAI\n",
    "from langchain.memory import ConversationBufferMemory\n",
    "import os \n",
    "# from operator import itemgetter\n",
    "# from langchain_core.runnables import RunnablePassthrough\n",
    "from dotenv import load_dotenv\n",
    "from langchain_community.tools.sql_database.tool import QuerySQLDataBaseTool\n",
    "from langchain_core.output_parsers import StrOutputParser"
   ]
  },
  {
   "cell_type": "code",
   "execution_count": 3,
   "metadata": {},
   "outputs": [
    {
     "name": "stderr",
     "output_type": "stream",
     "text": [
      "c:\\Users\\hung\\AppData\\Local\\Programs\\Python\\Python312\\Lib\\site-packages\\langchain_community\\utilities\\sql_database.py:123: SAWarning: Did not recognize type 'vector' of column 'embedding'\n",
      "  self._metadata.reflect(\n"
     ]
    }
   ],
   "source": [
    "load_dotenv()\n",
    "OPENAI_API_KEY= os.getenv(\"OPENAI_API_KEY\")\n",
    "DB_URI= os.getenv(\"DB_URI\")\n",
    "db = SQLDatabase.from_uri(DB_URI)\n",
    "llm = ChatOpenAI(model=\"gpt-4o-mini\", api_key=OPENAI_API_KEY)"
   ]
  },
  {
   "cell_type": "code",
   "execution_count": 4,
   "metadata": {},
   "outputs": [],
   "source": [
    "\n",
    "summary_prompt = PromptTemplate(\n",
    "    input_variables=[\"chat_history\"],\n",
    "    template=\"Summarize the following conversation: {chat_history}\"\n",
    ")\n",
    "\n",
    "# Memory for chat history\n",
    "memory = ConversationBufferMemory(memory_key=\"chat_history\")\n",
    "\n",
    "# Function to summarize conversation history\n",
    "def summarize_history():\n",
    "    llm_chain = summary_prompt | llm\n",
    "    summary = llm_chain.invoke({\"chat_history\":memory.load_memory_variables({})[\"chat_history\"]})\n",
    "    return summary\n",
    "\n",
    "# Define tools for the agent to interact with the SQL database\n",
    "sql_query_prompt = PromptTemplate(\n",
    "    input_variables=[\"user_input\", \"context\"],\n",
    "    template=\"\"\"\n",
    "Given an input question, the current context based on the chat history between you and the user and related table schema, generate an SQL query to query a pgvector database that can be used to fetch and return the answer to the question.\n",
    "Remeber to only output the SQL query (Example: SELECT * FROM \"News\" WHERE column_name='value')\n",
    "Rewrite all synonyms and paraphrases of the question into a SQL query that can be used to query the database.\n",
    "Remember to put the \"\" around the table name and column name.\n",
    "Table information:\n",
    "Name: \"news\"\n",
    "Columns and meanings:\n",
    "- id: The unique identifier for each news article\n",
    "- title: The title of the news article\n",
    "- url: The url of the news article\n",
    "- description: A short description of the news article\n",
    "- content: The full content of the news article\n",
    "- cat: The category of the news article\n",
    "- subcat: The subcategory of the news article\n",
    "- published_date: The date the news article was published\n",
    "- author: The author of the news article\n",
    "- embedding: contains the embeddings of the news article \n",
    "\n",
    "Current context: {context}.\n",
    "Question: {question}\n",
    "\"\"\"\n",
    ")\n",
    "\n",
    "sql_generator_chain = sql_query_prompt | llm\n",
    "sql_executor = QuerySQLDataBaseTool(db=db)\n",
    "\n",
    "def execute_sql_query(sql_query):\n",
    "    try:\n",
    "        # Run the generated SQL query on the database\n",
    "        result = db.run(sql_query)\n",
    "        print(\"SQL RESPONSE: \",result)\n",
    "        if result is None:\n",
    "            return \"No results found\"\n",
    "        return result\n",
    "    except Exception as e:\n",
    "        return f\"Error executing query: {e}\"\n",
    "# Define agent with memory for conversation and SQL interaction\n",
    "\n",
    "result_format_prompt = PromptTemplate(\n",
    "    input_variables=[\"sql_result\"],\n",
    "    template=\"\"\"\n",
    "You are a highly skilled assistant. The following is the result of a SQL query.\n",
    "If there are no results, please respond with \"No results found\".\n",
    "Result: {sql_result}\n",
    "Format this result into a user-friendly and readable response.\n",
    "\"\"\"\n",
    ")\n",
    "\n",
    "result_format_chain = result_format_prompt | llm\n",
    "\n",
    "def clean_query(query):\n",
    "    print(\"QUERY: \",query)\n",
    "    return query.replace(\"```sql\", \"\").replace(\"```\", \"\").strip()\n",
    "\n",
    "def get_context():\n",
    "    return summarize_history()\n",
    "\n",
    "output_parser=StrOutputParser()\n",
    "\n",
    "chain = sql_generator_chain | output_parser |  clean_query | execute_sql_query | result_format_chain | output_parser\n",
    "# Example interaction function\n",
    "def run_agent(user_input):\n",
    "    # Get chat history and summarize it\n",
    "    context = memory.load_memory_variables({}).get(\"chat_history\", \"\")\n",
    "    \n",
    "    # Step 1: Generate SQL query based on user input and context\n",
    "    response=chain.invoke({\"question\": user_input, \"context\": get_context()})\n",
    "    \n",
    "    # Save the user input and agent response in memory\n",
    "    memory.save_context({\"input\": user_input}, {\"response\": response})\n",
    "    \n",
    "    return response\n",
    "\n"
   ]
  },
  {
   "cell_type": "code",
   "execution_count": 5,
   "metadata": {},
   "outputs": [
    {
     "name": "stdout",
     "output_type": "stream",
     "text": [
      "QUERY:  SELECT * FROM \"news\" WHERE \"content\" ILIKE '%đại học bách khoa hà nội%' LIMIT 2;\n",
      "SQL RESPONSE:  [(3609, 'Số sinh viên quốc tế đến Việt Nam cao nhất 9 năm', 'https://vnexpress.net/so-sinh-vien-quoc-te-den-viet-nam-cao-nhat-9-nam-4783446.html', 'Gần 22.000 sinh viên nước ngoài đang học tập ở Việt Nam, cao nhất 9 năm qua, theo Bộ Giáo dục và Đào tạo.', 'Trong số này, gần 4.000 người theo diện Hiệp định giữa Việt Nam với các nước, còn lại là diện tự túc chi phí hoặc theo thỏa thuận song phương ở cấp trường và địa phương.\\nGiai đoạn 2016-2019, số du học sinh tới Việt Nam không ngừng tăng, từ 17.500 lên 21.000. Tuy nhiên, đến năm 2020-2021, con số...', 'Giáo dục', 'null', '1724130684', 'Thanh Hằng - Dương Tâm', '[-0.036757052,0.04409403,0.020507453,-0.0024506706,0.048664607,-0.009718488,-0.014673954,0.044238362,-0.06384373,-0.004348061,-0.08910217,0.049410332,-0.02884274,0.02961252,0.01569632,0.0048983344,-0.017789163,-0.024284191,0.023442242,-0.03658866,0.00082165125,0.038585283,-0.0006269507,-0.0208442...'), (3643, 'Tra cứu điểm chuẩn đại học 2024 trên VnExpress', 'https://vnexpress.net/tra-cuu-diem-chuan-dai-hoc-2024-tren-vnexpress-4781696.html', 'Thí sinh, phụ huynh có thể tra cứu điểm chuẩn đại học trên VnExpress từ chiều 17/8, cùng học phí và nhiều thông tin tuyển sinh khác.', 'Từ chiều 17/8 đến 17h ngày 19/8, hơn 200 trường đại học sẽ công bố điểm chuẩn xét theo kết quả thi tốt nghiệp THPT. Trong đó, nhiều trường dự kiến thông báo ngay sau khi kết thúc quy trình lọc ảo vào chiều 17/8, như Đại học Bách khoa Hà Nội và TP HCM, Học viện Ngân hàng, Đại học Kinh tế - Luật,...', 'Giáo dục', 'null', '1723817351', 'Dương Tâm', '[-0.058964215,0.05583614,0.00346695,-0.043871254,0.06360419,-0.027970206,-0.03156749,0.050779086,-0.02434685,-0.0040827896,-0.0083285,0.05583614,-0.03532118,0.05755658,0.01733475,-0.039465882,-0.023356294,-0.012219043,-0.013287802,0.022861015,-0.0008154175,0.017256549,0.009918605,-0.04053464,0.04...')]\n",
      "Here are the latest articles related to education:\n",
      "\n",
      "1. **Title:** [Số sinh viên quốc tế đến Việt Nam cao nhất 9 năm](https://vnexpress.net/so-sinh-vien-quoc-te-den-viet-nam-cao-nhat-9-nam-4783446.html)  \n",
      "   **Summary:** Gần 22.000 sinh viên nước ngoài đang học tập ở Việt Nam, cao nhất 9 năm qua, theo Bộ Giáo dục và Đào tạo. Trong số này, gần 4.000 người theo diện Hiệp định giữa Việt Nam với các nước, còn lại là diện tự túc chi phí hoặc theo thỏa thuận song phương ở cấp trường và địa phương. Giai đoạn 2016-2019, số du học sinh tới Việt Nam không ngừng tăng, từ 17.500 lên 21.000. Tuy nhiên, đến năm 2020-2021, con số đã có sự biến động.\n",
      "\n",
      "   **Author:** Thanh Hằng - Dương Tâm  \n",
      "   **Published on:** [VnExpress](https://vnexpress.net)  \n",
      "   **Category:** Giáo dục\n",
      "\n",
      "2. **Title:** [Tra cứu điểm chuẩn đại học 2024 trên VnExpress](https://vnexpress.net/tra-cuu-diem-chuan-dai-hoc-2024-tren-vnexpress-4781696.html)  \n",
      "   **Summary:** Thí sinh, phụ huynh có thể tra cứu điểm chuẩn đại học trên VnExpress từ chiều 17/8, cùng học phí và nhiều thông tin tuyển sinh khác. Từ chiều 17/8 đến 17h ngày 19/8, hơn 200 trường đại học sẽ công bố điểm chuẩn xét theo kết quả thi tốt nghiệp THPT.\n",
      "\n",
      "   **Author:** Dương Tâm  \n",
      "   **Published on:** [VnExpress](https://vnexpress.net)  \n",
      "   **Category:** Giáo dục\n",
      "\n",
      "Feel free to check the links for more details!\n"
     ]
    }
   ],
   "source": [
    "user_query = \"Cho tôi 2 bài báo liên quan đến đại học bách khoa hà nội\"\n",
    "response = run_agent(user_query)\n",
    "print(response)"
   ]
  },
  {
   "cell_type": "code",
   "execution_count": 6,
   "metadata": {},
   "outputs": [
    {
     "name": "stdout",
     "output_type": "stream",
     "text": [
      "Human: Cho tôi 2 bài báo liên quan đến đại học bách khoa hà nội\n",
      "AI: Here are the latest articles related to education:\n",
      "\n",
      "1. **Title:** [Số sinh viên quốc tế đến Việt Nam cao nhất 9 năm](https://vnexpress.net/so-sinh-vien-quoc-te-den-viet-nam-cao-nhat-9-nam-4783446.html)  \n",
      "   **Summary:** Gần 22.000 sinh viên nước ngoài đang học tập ở Việt Nam, cao nhất 9 năm qua, theo Bộ Giáo dục và Đào tạo. Trong số này, gần 4.000 người theo diện Hiệp định giữa Việt Nam với các nước, còn lại là diện tự túc chi phí hoặc theo thỏa thuận song phương ở cấp trường và địa phương. Giai đoạn 2016-2019, số du học sinh tới Việt Nam không ngừng tăng, từ 17.500 lên 21.000. Tuy nhiên, đến năm 2020-2021, con số đã có sự biến động.\n",
      "\n",
      "   **Author:** Thanh Hằng - Dương Tâm  \n",
      "   **Published on:** [VnExpress](https://vnexpress.net)  \n",
      "   **Category:** Giáo dục\n",
      "\n",
      "2. **Title:** [Tra cứu điểm chuẩn đại học 2024 trên VnExpress](https://vnexpress.net/tra-cuu-diem-chuan-dai-hoc-2024-tren-vnexpress-4781696.html)  \n",
      "   **Summary:** Thí sinh, phụ huynh có thể tra cứu điểm chuẩn đại học trên VnExpress từ chiều 17/8, cùng học phí và nhiều thông tin tuyển sinh khác. Từ chiều 17/8 đến 17h ngày 19/8, hơn 200 trường đại học sẽ công bố điểm chuẩn xét theo kết quả thi tốt nghiệp THPT.\n",
      "\n",
      "   **Author:** Dương Tâm  \n",
      "   **Published on:** [VnExpress](https://vnexpress.net)  \n",
      "   **Category:** Giáo dục\n",
      "\n",
      "Feel free to check the links for more details!\n"
     ]
    }
   ],
   "source": [
    "def get_current_history():\n",
    "    history = memory.load_memory_variables({})\n",
    "    return history.get(\"chat_history\", \"No conversation history available.\")\n",
    "\n",
    "# Example usage:\n",
    "history = get_current_history()\n",
    "print(history)"
   ]
  }
 ],
 "metadata": {
  "kernelspec": {
   "display_name": "Python 3",
   "language": "python",
   "name": "python3"
  },
  "language_info": {
   "codemirror_mode": {
    "name": "ipython",
    "version": 3
   },
   "file_extension": ".py",
   "mimetype": "text/x-python",
   "name": "python",
   "nbconvert_exporter": "python",
   "pygments_lexer": "ipython3",
   "version": "3.12.4"
  }
 },
 "nbformat": 4,
 "nbformat_minor": 2
}
